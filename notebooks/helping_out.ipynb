{
 "cells": [
  {
   "cell_type": "code",
   "execution_count": null,
   "metadata": {},
   "outputs": [],
   "source": [
    "import os"
   ]
  },
  {
   "cell_type": "code",
   "execution_count": null,
   "metadata": {},
   "outputs": [],
   "source": [
    "depl = 'ft01'\n",
    "list_files=['ft01-Fluoro1-07', 'ft01-Fluoro2-07']\n",
    "qf=['hr1', 'hr2']"
   ]
  },
  {
   "cell_type": "code",
   "execution_count": null,
   "metadata": {},
   "outputs": [],
   "source": [
    "list_ds = []\n",
    "directory = '/home/jupyter-josefin/MEOP_process/final_dataset_prof/ft01'\n",
    "for filename in os.listdir(directory):\n",
    "    for smru_name in list_files:\n",
    "        for qf_name in qf:\n",
    "            if filename == smru_name + '_' + qf_name + '_prof.nc':\n",
    "                list_ds.append(meop.read_ncfile(Path.home() / Path('MEOP_process/final_dataset_prof') /  Path(depl) \n",
    "                / Path(filename)))\n",
    "            else:\n",
    "                continue"
   ]
  },
  {
   "cell_type": "code",
   "execution_count": null,
   "metadata": {},
   "outputs": [],
   "source": [
    "list_files=['ft01-Fluoro1-07', 'ft01-Fluoro2-07']\n",
    "qf=['hr1', 'hr2']\n",
    "directory = '/home/jupyter-josefin/MEOP_process/final_dataset_prof/ft01'\n",
    "list_ds = [(meop.read_ncfile(Path.home() / Path('MEOP_process/final_dataset_prof') /  Path(depl) / Path(filename))) for qf_name in qf for smru_name in list_files for filename in os.listdir(directory) if filename == smru_name + '_' + qf_name + '_prof.nc']"
   ]
  },
  {
   "cell_type": "code",
   "execution_count": null,
   "metadata": {},
   "outputs": [],
   "source": [
    "[meop.read_ncfile(Path.home() / Path('MEOP_process/final_dataset_prof') /  Path(depl) / Path(filename))) ]"
   ]
  }
 ],
 "metadata": {
  "language_info": {
   "name": "python"
  },
  "orig_nbformat": 4
 },
 "nbformat": 4,
 "nbformat_minor": 2
}
