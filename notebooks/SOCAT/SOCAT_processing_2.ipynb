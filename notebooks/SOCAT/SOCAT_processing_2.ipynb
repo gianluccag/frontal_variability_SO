{
 "cells": [
  {
   "cell_type": "code",
   "execution_count": 1,
   "metadata": {},
   "outputs": [],
   "source": [
    "from GG_mthesis import *\n",
    "%matplotlib inline"
   ]
  },
  {
   "cell_type": "code",
   "execution_count": 2,
   "metadata": {},
   "outputs": [],
   "source": [
    "df = pd.read_csv('data/02_intermediate/SOCAT/33LG20020322.csv', index_col=0, parse_dates=['datetime'])"
   ]
  },
  {
   "cell_type": "code",
   "execution_count": null,
   "metadata": {},
   "outputs": [],
   "source": [
    "# Seperate cruises in different transects\n",
    "from GG_mthesis.SOCAT_processing import SOCAT\n",
    "for file in os.listdir('data/02_intermediate/SOCAT'):\n",
    "    full_path = os.path.join('data/02_intermediate/SOCAT', file)\n",
    "    df = pd.read_csv(full_path, index_col=0, parse_dates=['datetime'])\n",
    "    SOCAT.select_transect(df)"
   ]
  }
 ],
 "metadata": {
  "interpreter": {
   "hash": "28dbede84d47c0d87c96b9732f4446791d2c48a541208c70952e835f8b1eb756"
  },
  "kernelspec": {
   "display_name": "Python 3.9.7 ('mthesis')",
   "language": "python",
   "name": "python3"
  },
  "language_info": {
   "codemirror_mode": {
    "name": "ipython",
    "version": 3
   },
   "file_extension": ".py",
   "mimetype": "text/x-python",
   "name": "python",
   "nbconvert_exporter": "python",
   "pygments_lexer": "ipython3",
   "version": "3.9.7"
  },
  "orig_nbformat": 4
 },
 "nbformat": 4,
 "nbformat_minor": 2
}
