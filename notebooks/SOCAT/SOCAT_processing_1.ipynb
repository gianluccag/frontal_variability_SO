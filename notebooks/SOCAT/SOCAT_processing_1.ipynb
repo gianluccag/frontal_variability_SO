{
 "cells": [
  {
   "cell_type": "code",
   "execution_count": 1,
   "metadata": {},
   "outputs": [],
   "source": [
    "from GG_mthesis import *\n",
    "%matplotlib inline"
   ]
  },
  {
   "cell_type": "code",
   "execution_count": 2,
   "metadata": {},
   "outputs": [],
   "source": [
    "df = pd.read_csv('data/02_intermediate/SOCAT/33LG20020322.csv', index_col=0, parse_dates=['datetime'])"
   ]
  },
  {
   "cell_type": "code",
   "execution_count": 3,
   "metadata": {},
   "outputs": [
    {
     "data": {
      "text/plain": [
       "False"
      ]
     },
     "execution_count": 3,
     "metadata": {},
     "output_type": "execute_result"
    }
   ],
   "source": [
    "df.empty"
   ]
  },
  {
   "cell_type": "code",
   "execution_count": null,
   "metadata": {},
   "outputs": [],
   "source": [
    "len(pd.DataFrame())"
   ]
  },
  {
   "cell_type": "code",
   "execution_count": null,
   "metadata": {},
   "outputs": [],
   "source": [
    "from GG_mthesis.SOCAT_processing import SOCAT\n",
    "for file in os.listdir('data/02_intermediate/SOCAT'):\n",
    "    full_path = os.path.join('data/02_intermediate/SOCAT', file)\n",
    "    df = pd.read_csv(full_path, index_col=0, parse_dates=['datetime'])\n",
    "    SOCAT.select_transect(df)"
   ]
  },
  {
   "cell_type": "code",
   "execution_count": null,
   "metadata": {},
   "outputs": [],
   "source": [
    "os.listdir('data/03_processed/SOCAT')[0][:-4]"
   ]
  },
  {
   "cell_type": "code",
   "execution_count": null,
   "metadata": {},
   "outputs": [],
   "source": [
    "os.path.abspath('results/SOCAT/process')"
   ]
  },
  {
   "cell_type": "code",
   "execution_count": null,
   "metadata": {},
   "outputs": [],
   "source": [
    "from GG_mthesis.d01_data.processing import rmap\n",
    "for file in os.listdir('data/03_processed/SOCAT'):\n",
    "    full_path = os.path.join('data/03_processed/SOCAT', file)\n",
    "    df = pd.read_csv(full_path, index_col=0, parse_dates=['datetime'])\n",
    "    \n",
    "    ax = rmap.plot_region()\n",
    "    scat = ax.scatter(df['lon'], df['lat'], c=df.index.values, cmap='autumn', s=2)\n",
    "    cbar = plt.colorbar(scat, location='bottom', pad=0.05, ax=ax)\n",
    "    cbar.ax.set_xticklabels(pd.to_datetime(cbar.get_ticks()).strftime(date_format='%r %d %b'), rotation=22.5)\n",
    "    \n",
    "    path = os.path.abspath('results/SOCAT/process')\n",
    "    filename = path + '/' + file[:-4] + '.png'\n",
    "    plt.savefig(filename, format='png')"
   ]
  },
  {
   "cell_type": "code",
   "execution_count": null,
   "metadata": {},
   "outputs": [],
   "source": [
    "from GG_mthesis.d01_data.processing import rmap \n",
    "ax = rmap.plot_region()\n",
    "scat = ax.scatter(df['lon'], df['lat'], c=df.index.values, cmap='autumn', s=2)\n",
    "cbar = plt.colorbar(scat, location='bottom', pad=0.05, ax=ax)\n",
    "cbar.ax.set_xticklabels(pd.to_datetime(cbar.get_ticks()).strftime(date_format='%r %d %b'), rotation=22.5)"
   ]
  },
  {
   "cell_type": "code",
   "execution_count": null,
   "metadata": {},
   "outputs": [],
   "source": [
    "bearing = [utils.geo.calculateBearing(df['lat'][i],df['lon'][i],df['lat'][i+1],df['lon'][i+1]) for i in range(len(df['lon'])-1)]"
   ]
  },
  {
   "cell_type": "code",
   "execution_count": null,
   "metadata": {},
   "outputs": [],
   "source": [
    "df = df[:-1]\n",
    "df['bearing'] = bearing"
   ]
  },
  {
   "cell_type": "code",
   "execution_count": null,
   "metadata": {},
   "outputs": [],
   "source": [
    "df_south = df.where(df['bearing'] > 135).where(df['bearing'] < 225)\n",
    "df_south = df_south[df_south['bearing'].notna()]\n",
    "\n",
    "df_north = df[~df['bearing'].between(45,315)]\n",
    "df_north = df_north[df_north['bearing'].notna()]"
   ]
  },
  {
   "cell_type": "code",
   "execution_count": null,
   "metadata": {},
   "outputs": [],
   "source": [
    "df_north"
   ]
  },
  {
   "cell_type": "code",
   "execution_count": null,
   "metadata": {},
   "outputs": [],
   "source": [
    "str(df_south['Expocode'].unique())"
   ]
  },
  {
   "cell_type": "code",
   "execution_count": null,
   "metadata": {},
   "outputs": [],
   "source": [
    "from GG_mthesis.d01_data.processing import rmap \n",
    "ax = rmap.plot_region()\n",
    "scat = ax.scatter(df_south['lon'], df_south['lat'], c=df_south.index.values, cmap='autumn', s=2)\n",
    "cbar = plt.colorbar(scat, location='bottom', pad=0.05, ax=ax)\n",
    "cbar.ax.set_xticklabels(pd.to_datetime(cbar.get_ticks()).strftime(date_format='%r %d %b'), rotation=22.5)"
   ]
  },
  {
   "cell_type": "code",
   "execution_count": null,
   "metadata": {},
   "outputs": [],
   "source": [
    "from GG_mthesis.d01_data.processing import rmap \n",
    "ax = rmap.plot_region()\n",
    "scat = ax.scatter(df_north['lon'], df_north['lat'], c=df_north.index.values, cmap='autumn', s=2)\n",
    "cbar = plt.colorbar(scat, location='bottom', pad=0.05, ax=ax)\n",
    "cbar.ax.set_xticklabels(pd.to_datetime(cbar.get_ticks()).strftime(date_format='%r %d %b'), rotation=22.5)"
   ]
  }
 ],
 "metadata": {
  "kernelspec": {
   "display_name": "Python 3.9.7 ('mthesis')",
   "language": "python",
   "name": "python3"
  },
  "language_info": {
   "codemirror_mode": {
    "name": "ipython",
    "version": 3
   },
   "file_extension": ".py",
   "mimetype": "text/x-python",
   "name": "python",
   "nbconvert_exporter": "python",
   "pygments_lexer": "ipython3",
   "version": "3.9.7"
  },
  "orig_nbformat": 4,
  "vscode": {
   "interpreter": {
    "hash": "28dbede84d47c0d87c96b9732f4446791d2c48a541208c70952e835f8b1eb756"
   }
  }
 },
 "nbformat": 4,
 "nbformat_minor": 2
}
